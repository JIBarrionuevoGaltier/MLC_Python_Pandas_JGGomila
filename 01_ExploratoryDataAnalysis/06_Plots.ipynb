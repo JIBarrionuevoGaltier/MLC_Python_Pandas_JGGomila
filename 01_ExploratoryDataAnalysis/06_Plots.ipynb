{
 "cells": [
  {
   "cell_type": "markdown",
   "id": "e563c685-a1b9-480c-9c4a-b51f40786953",
   "metadata": {},
   "source": [
    "# Visualización de Datos - Plots"
   ]
  },
  {
   "cell_type": "code",
   "execution_count": 1,
   "id": "dbc33e1c-3b6a-413b-809f-543704570a4c",
   "metadata": {},
   "outputs": [],
   "source": [
    "import pandas as pd\n",
    "import matplotlib.pyplot as plt\n",
    "import numpy as np"
   ]
  },
  {
   "cell_type": "code",
   "execution_count": 2,
   "id": "155e9077-780d-4c2a-8ae8-0b69f8dd3f59",
   "metadata": {},
   "outputs": [],
   "source": [
    "data = pd.read_csv('../datasets/customer-churn-model/Customer Churn Model.txt')"
   ]
  },
  {
   "cell_type": "code",
   "execution_count": 3,
   "id": "7afebe97-e073-40a6-bbed-78828bd62896",
   "metadata": {},
   "outputs": [
    {
     "data": {
      "text/html": [
       "<div>\n",
       "<style scoped>\n",
       "    .dataframe tbody tr th:only-of-type {\n",
       "        vertical-align: middle;\n",
       "    }\n",
       "\n",
       "    .dataframe tbody tr th {\n",
       "        vertical-align: top;\n",
       "    }\n",
       "\n",
       "    .dataframe thead th {\n",
       "        text-align: right;\n",
       "    }\n",
       "</style>\n",
       "<table border=\"1\" class=\"dataframe\">\n",
       "  <thead>\n",
       "    <tr style=\"text-align: right;\">\n",
       "      <th></th>\n",
       "      <th>State</th>\n",
       "      <th>Account Length</th>\n",
       "      <th>Area Code</th>\n",
       "      <th>Phone</th>\n",
       "      <th>Int'l Plan</th>\n",
       "      <th>VMail Plan</th>\n",
       "      <th>VMail Message</th>\n",
       "      <th>Day Mins</th>\n",
       "      <th>Day Calls</th>\n",
       "      <th>Day Charge</th>\n",
       "      <th>...</th>\n",
       "      <th>Eve Calls</th>\n",
       "      <th>Eve Charge</th>\n",
       "      <th>Night Mins</th>\n",
       "      <th>Night Calls</th>\n",
       "      <th>Night Charge</th>\n",
       "      <th>Intl Mins</th>\n",
       "      <th>Intl Calls</th>\n",
       "      <th>Intl Charge</th>\n",
       "      <th>CustServ Calls</th>\n",
       "      <th>Churn?</th>\n",
       "    </tr>\n",
       "  </thead>\n",
       "  <tbody>\n",
       "    <tr>\n",
       "      <th>0</th>\n",
       "      <td>KS</td>\n",
       "      <td>128</td>\n",
       "      <td>415</td>\n",
       "      <td>382-4657</td>\n",
       "      <td>no</td>\n",
       "      <td>yes</td>\n",
       "      <td>25</td>\n",
       "      <td>265.1</td>\n",
       "      <td>110</td>\n",
       "      <td>45.07</td>\n",
       "      <td>...</td>\n",
       "      <td>99</td>\n",
       "      <td>16.78</td>\n",
       "      <td>244.7</td>\n",
       "      <td>91</td>\n",
       "      <td>11.01</td>\n",
       "      <td>10.0</td>\n",
       "      <td>3</td>\n",
       "      <td>2.70</td>\n",
       "      <td>1</td>\n",
       "      <td>False.</td>\n",
       "    </tr>\n",
       "    <tr>\n",
       "      <th>1</th>\n",
       "      <td>OH</td>\n",
       "      <td>107</td>\n",
       "      <td>415</td>\n",
       "      <td>371-7191</td>\n",
       "      <td>no</td>\n",
       "      <td>yes</td>\n",
       "      <td>26</td>\n",
       "      <td>161.6</td>\n",
       "      <td>123</td>\n",
       "      <td>27.47</td>\n",
       "      <td>...</td>\n",
       "      <td>103</td>\n",
       "      <td>16.62</td>\n",
       "      <td>254.4</td>\n",
       "      <td>103</td>\n",
       "      <td>11.45</td>\n",
       "      <td>13.7</td>\n",
       "      <td>3</td>\n",
       "      <td>3.70</td>\n",
       "      <td>1</td>\n",
       "      <td>False.</td>\n",
       "    </tr>\n",
       "    <tr>\n",
       "      <th>2</th>\n",
       "      <td>NJ</td>\n",
       "      <td>137</td>\n",
       "      <td>415</td>\n",
       "      <td>358-1921</td>\n",
       "      <td>no</td>\n",
       "      <td>no</td>\n",
       "      <td>0</td>\n",
       "      <td>243.4</td>\n",
       "      <td>114</td>\n",
       "      <td>41.38</td>\n",
       "      <td>...</td>\n",
       "      <td>110</td>\n",
       "      <td>10.30</td>\n",
       "      <td>162.6</td>\n",
       "      <td>104</td>\n",
       "      <td>7.32</td>\n",
       "      <td>12.2</td>\n",
       "      <td>5</td>\n",
       "      <td>3.29</td>\n",
       "      <td>0</td>\n",
       "      <td>False.</td>\n",
       "    </tr>\n",
       "    <tr>\n",
       "      <th>3</th>\n",
       "      <td>OH</td>\n",
       "      <td>84</td>\n",
       "      <td>408</td>\n",
       "      <td>375-9999</td>\n",
       "      <td>yes</td>\n",
       "      <td>no</td>\n",
       "      <td>0</td>\n",
       "      <td>299.4</td>\n",
       "      <td>71</td>\n",
       "      <td>50.90</td>\n",
       "      <td>...</td>\n",
       "      <td>88</td>\n",
       "      <td>5.26</td>\n",
       "      <td>196.9</td>\n",
       "      <td>89</td>\n",
       "      <td>8.86</td>\n",
       "      <td>6.6</td>\n",
       "      <td>7</td>\n",
       "      <td>1.78</td>\n",
       "      <td>2</td>\n",
       "      <td>False.</td>\n",
       "    </tr>\n",
       "    <tr>\n",
       "      <th>4</th>\n",
       "      <td>OK</td>\n",
       "      <td>75</td>\n",
       "      <td>415</td>\n",
       "      <td>330-6626</td>\n",
       "      <td>yes</td>\n",
       "      <td>no</td>\n",
       "      <td>0</td>\n",
       "      <td>166.7</td>\n",
       "      <td>113</td>\n",
       "      <td>28.34</td>\n",
       "      <td>...</td>\n",
       "      <td>122</td>\n",
       "      <td>12.61</td>\n",
       "      <td>186.9</td>\n",
       "      <td>121</td>\n",
       "      <td>8.41</td>\n",
       "      <td>10.1</td>\n",
       "      <td>3</td>\n",
       "      <td>2.73</td>\n",
       "      <td>3</td>\n",
       "      <td>False.</td>\n",
       "    </tr>\n",
       "  </tbody>\n",
       "</table>\n",
       "<p>5 rows × 21 columns</p>\n",
       "</div>"
      ],
      "text/plain": [
       "  State  Account Length  Area Code     Phone Int'l Plan VMail Plan  \\\n",
       "0    KS             128        415  382-4657         no        yes   \n",
       "1    OH             107        415  371-7191         no        yes   \n",
       "2    NJ             137        415  358-1921         no         no   \n",
       "3    OH              84        408  375-9999        yes         no   \n",
       "4    OK              75        415  330-6626        yes         no   \n",
       "\n",
       "   VMail Message  Day Mins  Day Calls  Day Charge  ...  Eve Calls  Eve Charge  \\\n",
       "0             25     265.1        110       45.07  ...         99       16.78   \n",
       "1             26     161.6        123       27.47  ...        103       16.62   \n",
       "2              0     243.4        114       41.38  ...        110       10.30   \n",
       "3              0     299.4         71       50.90  ...         88        5.26   \n",
       "4              0     166.7        113       28.34  ...        122       12.61   \n",
       "\n",
       "   Night Mins  Night Calls  Night Charge  Intl Mins  Intl Calls  Intl Charge  \\\n",
       "0       244.7           91         11.01       10.0           3         2.70   \n",
       "1       254.4          103         11.45       13.7           3         3.70   \n",
       "2       162.6          104          7.32       12.2           5         3.29   \n",
       "3       196.9           89          8.86        6.6           7         1.78   \n",
       "4       186.9          121          8.41       10.1           3         2.73   \n",
       "\n",
       "   CustServ Calls  Churn?  \n",
       "0               1  False.  \n",
       "1               1  False.  \n",
       "2               0  False.  \n",
       "3               2  False.  \n",
       "4               3  False.  \n",
       "\n",
       "[5 rows x 21 columns]"
      ]
     },
     "execution_count": 3,
     "metadata": {},
     "output_type": "execute_result"
    }
   ],
   "source": [
    "data.head()"
   ]
  },
  {
   "cell_type": "code",
   "execution_count": 4,
   "id": "3700e880-e895-4997-bca9-959aacc0755e",
   "metadata": {},
   "outputs": [],
   "source": [
    "%matplotlib inline "
   ]
  },
  {
   "cell_type": "code",
   "execution_count": 5,
   "id": "281a078e-9f4f-4b05-9207-d9375fc60ba8",
   "metadata": {},
   "outputs": [],
   "source": [
    "# savefig('path_donde_quieras_subir.jpeg') Para guardar imagen"
   ]
  },
  {
   "cell_type": "markdown",
   "id": "0f822c4f-b322-452b-bace-b0f0fc2ba184",
   "metadata": {},
   "source": [
    "## Scatter Plot"
   ]
  },
  {
   "cell_type": "markdown",
   "id": "8455fac5-eb1c-47f1-b012-2275edfb378b",
   "metadata": {},
   "source": [
    "Sirve para ver rápidamente la correlatividad entre variables"
   ]
  },
  {
   "cell_type": "code",
   "execution_count": 6,
   "id": "8422636f-15cc-4f8f-9b26-d4a3aed8e833",
   "metadata": {},
   "outputs": [
    {
     "data": {
      "text/plain": [
       "<AxesSubplot:xlabel='Day Mins', ylabel='Day Charge'>"
      ]
     },
     "execution_count": 6,
     "metadata": {},
     "output_type": "execute_result"
    },
    {
     "data": {
      "image/png": "[encoded data removed]",
      "text/plain": [
       "<Figure size 432x288 with 1 Axes>"
      ]
     },
     "metadata": {
      "needs_background": "light"
     },
     "output_type": "display_data"
    }
   ],
   "source": [
    "data.plot(kind='scatter', x='Day Mins', y='Day Charge')"
   ]
  },
  {
   "cell_type": "code",
   "execution_count": 7,
   "id": "8fefd9ab-71aa-464d-835a-de7ec72c3d67",
   "metadata": {},
   "outputs": [
    {
     "data": {
      "text/plain": [
       "<AxesSubplot:xlabel='Night Mins', ylabel='Night Charge'>"
      ]
     },
     "execution_count": 7,
     "metadata": {},
     "output_type": "execute_result"
    },
    {
     "data": {
      "image/png": "[encoded data removed]",
      "text/plain": [
       "<Figure size 432x288 with 1 Axes>"
      ]
     },
     "metadata": {
      "needs_background": "light"
     },
     "output_type": "display_data"
    }
   ],
   "source": [
    "data.plot(kind='scatter', x='Night Mins', y='Night Charge')"
   ]
  },
  {
   "cell_type": "markdown",
   "id": "8cb0b8b0-3312-422e-b07c-a259d27504d1",
   "metadata": {},
   "source": [
    "Vamos a hacer varios gráficos para poder ver varias variables"
   ]
  },
  {
   "cell_type": "code",
   "execution_count": 8,
   "id": "6f5ca1ca-9d8f-4ee8-96ae-e67dc0d81f99",
   "metadata": {},
   "outputs": [
    {
     "data": {
      "image/png": "[encoded data removed]",
      "text/plain": [
       "<Figure size 432x288 with 4 Axes>"
      ]
     },
     "metadata": {
      "needs_background": "light"
     },
     "output_type": "display_data"
    }
   ],
   "source": [
    "figure, axs = plt.subplots(2,2, sharey=True, sharex=True) #Nos crea una matriz de 2x2\n",
    "data.plot(kind='scatter', x='Day Mins', y='Day Charge', ax=axs[0][0])\n",
    "data.plot(kind='scatter', x='Night Mins', y='Night Charge', ax=axs[0][1])\n",
    "data.plot(kind='scatter', x='Day Calls', y='Day Charge', ax=axs[1][0])\n",
    "data.plot(kind='scatter', x='Night Calls', y='Night Charge', ax=axs[1][1])\n",
    "plt.show()"
   ]
  },
  {
   "cell_type": "markdown",
   "id": "528bc5ba-e8d1-43c8-af2c-6f1792736f80",
   "metadata": {},
   "source": [
    "---"
   ]
  },
  {
   "cell_type": "markdown",
   "id": "1c6a0f57-5921-4272-9357-e971414ef172",
   "metadata": {},
   "source": [
    "## Histograma"
   ]
  },
  {
   "cell_type": "code",
   "execution_count": 9,
   "id": "7a663ecd-2295-4ae9-9082-2bfdefed904a",
   "metadata": {},
   "outputs": [
    {
     "data": {
      "text/plain": [
       "array(['State', 'Account Length', 'Area Code', 'Phone', \"Int'l Plan\",\n",
       "       'VMail Plan', 'VMail Message', 'Day Mins', 'Day Calls',\n",
       "       'Day Charge', 'Eve Mins', 'Eve Calls', 'Eve Charge', 'Night Mins',\n",
       "       'Night Calls', 'Night Charge', 'Intl Mins', 'Intl Calls',\n",
       "       'Intl Charge', 'CustServ Calls', 'Churn?'], dtype=object)"
      ]
     },
     "execution_count": 9,
     "metadata": {},
     "output_type": "execute_result"
    }
   ],
   "source": [
    "data.columns.values"
   ]
  },
  {
   "cell_type": "code",
   "execution_count": 10,
   "id": "37a8ee20-37a4-452b-870c-c543c5ee61fa",
   "metadata": {},
   "outputs": [
    {
     "data": {
      "image/png": "[encoded data removed]",
      "text/plain": [
       "<Figure size 432x288 with 1 Axes>"
      ]
     },
     "metadata": {
      "needs_background": "light"
     },
     "output_type": "display_data"
    }
   ],
   "source": [
    "plt.hist(data['Day Calls'], bins = 20)\n",
    "plt.xlabel('Número de llamadas al día')\n",
    "plt.ylabel('Frecuencia')\n",
    "plt.title('Histograma del Número de Llamadas')\n",
    "plt.show()"
   ]
  },
  {
   "cell_type": "markdown",
   "id": "8f349f9c-a9cd-41a7-ae51-7e8e8aebb7aa",
   "metadata": {},
   "source": [
    "### Ley de Sturges"
   ]
  },
  {
   "cell_type": "markdown",
   "id": "92b9889a-226a-45d7-9b58-80cfa3b23534",
   "metadata": {},
   "source": [
    "La regla de Sturges es una propuesta práctida acerca del número de clases que deben considerar al elaborarse un histograma. \\\n",
    "Este número viene dado por la siguiente explresión:\n",
    "\n",
    "$ c = 1 + log2(M) $ , donde $M$ es el tamaño de la muestra.\n",
    "\n",
    "Que puede escribirse a partir de logarítmos base 10 de la siguiente forma:\n",
    "\n",
    "$ c = 1 + \\frac{log(M)}{log(2)} $ , donde $M$ es el tamaño de la muestra.\n",
    "\n",
    "El valor de c (número de clases) es común redondearlo, si tu entero resultante es par, se redondea a la alta, y si es impar, se redondea a la baja."
   ]
  },
  {
   "cell_type": "code",
   "execution_count": 11,
   "id": "136c3949-8b32-4ef4-be95-3886e7fb7d89",
   "metadata": {},
   "outputs": [],
   "source": [
    "# Por la regla de sturges\n",
    "def k_sturges(n):\n",
    "    if n%2==0:\n",
    "        return int(n.ceil(1 + np.log2(n)))\n",
    "    else:\n",
    "        return int(np.floor(1 + np.log2(n)) )"
   ]
  },
  {
   "cell_type": "code",
   "execution_count": 12,
   "id": "bbd68593-6ae8-4469-85c5-ffc40fb24e5c",
   "metadata": {},
   "outputs": [
    {
     "data": {
      "image/png": "[encoded data removed]",
      "text/plain": [
       "<Figure size 432x288 with 1 Axes>"
      ]
     },
     "metadata": {
      "needs_background": "light"
     },
     "output_type": "display_data"
    }
   ],
   "source": [
    "plt.hist(data['Day Calls'], bins = k_sturges(data.shape[0]))\n",
    "plt.xlabel('Número de llamadas al día')\n",
    "plt.ylabel('Frecuencia')\n",
    "plt.title('Histograma del Número de Llamadas')\n",
    "plt.show()"
   ]
  },
  {
   "cell_type": "markdown",
   "id": "5d3836f4-95ec-4da1-89af-1bf954da6b02",
   "metadata": {},
   "source": [
    "---"
   ]
  },
  {
   "cell_type": "markdown",
   "id": "f2c816c4-c3b1-4a2e-bd59-6ec3f5b60576",
   "metadata": {},
   "source": [
    "## Boxplot"
   ]
  },
  {
   "cell_type": "code",
   "execution_count": 13,
   "id": "4fa36e18-468c-4338-8b79-fd3daf2cebb7",
   "metadata": {},
   "outputs": [
    {
     "data": {
      "text/plain": [
       "count    3333.000000\n",
       "mean      100.435644\n",
       "std        20.069084\n",
       "min         0.000000\n",
       "25%        87.000000\n",
       "50%       101.000000\n",
       "75%       114.000000\n",
       "max       165.000000\n",
       "Name: Day Calls, dtype: float64"
      ]
     },
     "execution_count": 13,
     "metadata": {},
     "output_type": "execute_result"
    }
   ],
   "source": [
    "data['Day Calls'].describe()"
   ]
  },
  {
   "cell_type": "markdown",
   "id": "d70d6f13-4f72-4b0b-981b-42fc952707b7",
   "metadata": {},
   "source": [
    "La forma de leerlo es simple. \\\n",
    "La caja marca el 50% de los datos, es decir, que la raya que se crea a la mitad es la media. Su línea superior dentro de la caja, demuestra el 75% de los datos, es decir, el comienzo del 4to cuartil. La línea inferior dentro de la caja es el 25% de los datos, es decir, el comienzo del 2do cuartil."
   ]
  },
  {
   "cell_type": "code",
   "execution_count": 14,
   "id": "0340ea6c-aab1-424f-96b0-7e1021b0f350",
   "metadata": {},
   "outputs": [
    {
     "data": {
      "image/png": "[encoded data removed]",
      "text/plain": [
       "<Figure size 432x288 with 1 Axes>"
      ]
     },
     "metadata": {
      "needs_background": "light"
     },
     "output_type": "display_data"
    }
   ],
   "source": [
    "plt.boxplot(data['Day Calls'])\n",
    "plt.ylabel('Número de llamadas diarias')\n",
    "plt.title('Boxpot de llamadas diarias')\n",
    "plt.show()"
   ]
  },
  {
   "cell_type": "markdown",
   "id": "12310f2c-fb51-4aa4-a222-444d440f7c32",
   "metadata": {},
   "source": [
    "Si restamos el 4to cuartil menos el 2do cuartil, tenemos el rango intercuartial. Este es muy importante, ya que nos dice el tamaño o altitud de la caja."
   ]
  },
  {
   "cell_type": "code",
   "execution_count": 15,
   "id": "8dfbb06a-b408-4ba4-93db-44c2bf859bb0",
   "metadata": {},
   "outputs": [
    {
     "name": "stdout",
     "output_type": "stream",
     "text": [
      "El rango intercuartil es: 27.0\n"
     ]
    }
   ],
   "source": [
    "q3, q1 = np.percentile(data['Day Calls'], [75,25])\n",
    "iqr = q3 - q1\n",
    "print(f'El rango intercuartil es: {iqr}')"
   ]
  },
  {
   "cell_type": "markdown",
   "id": "f1e8ca76-7111-4ad0-b6b9-13b3da3100a0",
   "metadata": {},
   "source": [
    "Los bigotes por lo general se colocan a 1.5 veces el rango intercuartil como máximo."
   ]
  },
  {
   "cell_type": "code",
   "execution_count": 16,
   "id": "7eb1f951-9b35-49f9-b215-31659bcedcd1",
   "metadata": {},
   "outputs": [
    {
     "name": "stdout",
     "output_type": "stream",
     "text": [
      "El bigote superior es 154.5\n",
      "El bigote inferior es 46.5\n"
     ]
    }
   ],
   "source": [
    "print(f'El bigote superior es {q3+iqr*1.5}')\n",
    "print(f'El bigote inferior es {q1-iqr*1.5}')"
   ]
  },
  {
   "cell_type": "markdown",
   "id": "db7ed529-18f8-4e2c-9343-fb0b1cb3c4d7",
   "metadata": {},
   "source": [
    "Todo lo que queda fuera, ya sea por abajo o por encima de los bigotes, se llaman **outlier**, que son valores fuera de lo común."
   ]
  },
  {
   "cell_type": "code",
   "execution_count": null,
   "id": "7014ae7b-d6e7-450b-b9eb-2e69cbdb37c5",
   "metadata": {},
   "outputs": [],
   "source": []
  }
 ],
 "metadata": {
  "kernelspec": {
   "display_name": "Python 3 (ipykernel)",
   "language": "python",
   "name": "python3"
  },
  "language_info": {
   "codemirror_mode": {
    "name": "ipython",
    "version": 3
   },
   "file_extension": ".py",
   "mimetype": "text/x-python",
   "name": "python",
   "nbconvert_exporter": "python",
   "pygments_lexer": "ipython3",
   "version": "3.8.13"
  }
 },
 "nbformat": 4,
 "nbformat_minor": 5
}
