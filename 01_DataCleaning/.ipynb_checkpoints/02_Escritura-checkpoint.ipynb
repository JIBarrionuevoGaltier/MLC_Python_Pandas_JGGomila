{
 "cells": [
  {
   "cell_type": "markdown",
   "id": "4ee064ad-6e37-4611-a199-7177c559a385",
   "metadata": {},
   "source": [
    "# Escritura de Archivos - Pandas"
   ]
  },
  {
   "cell_type": "code",
   "execution_count": 1,
   "id": "3bc30cb9-bc47-4ffe-8dbf-ca2941ff8561",
   "metadata": {},
   "outputs": [],
   "source": [
    "import pandas as pd"
   ]
  },
  {
   "cell_type": "code",
   "execution_count": 3,
   "id": "f85b1588-fe6f-46bc-9462-074c4bcd2592",
   "metadata": {},
   "outputs": [],
   "source": [
    "data = pd.read_csv(\"../datasets/titanic/titanic3.csv\")"
   ]
  },
  {
   "cell_type": "markdown",
   "id": "3eb19311-9dda-4dd2-b0a1-a527debb20cc",
   "metadata": {},
   "source": [
    "## Guardar en CSV"
   ]
  },
  {
   "cell_type": "code",
   "execution_count": 4,
   "id": "b9c36061-2924-42f5-bb8f-0dab45135f1a",
   "metadata": {},
   "outputs": [],
   "source": [
    "data.to_csv(\"../datasets/titanic/titanic_save.csv\")"
   ]
  },
  {
   "cell_type": "markdown",
   "id": "9bcf8a46-5978-4ed6-9162-9668223dd14c",
   "metadata": {},
   "source": [
    "## Guardar en Excel"
   ]
  },
  {
   "cell_type": "code",
   "execution_count": 8,
   "id": "0fab7864-2058-4603-ac5e-f6983fc68f46",
   "metadata": {},
   "outputs": [
    {
     "name": "stderr",
     "output_type": "stream",
     "text": [
      "/tmp/ipykernel_796058/609341752.py:1: FutureWarning: As the xlwt package is no longer maintained, the xlwt engine will be removed in a future version of pandas. This is the only engine in pandas that supports writing in the xls format. Install openpyxl and write to an xlsx file instead. You can set the option io.excel.xls.writer to 'xlwt' to silence this warning. While this option is deprecated and will also raise a warning, it can be globally set and the warning suppressed.\n",
      "  data.to_excel(\"../datasets/titanic/titanic_save.xls\")\n"
     ]
    }
   ],
   "source": [
    "data.to_excel(\"../datasets/titanic/titanic_save.xls\")"
   ]
  },
  {
   "cell_type": "markdown",
   "id": "42119183-7785-47e7-ad42-ed03d51390be",
   "metadata": {},
   "source": [
    "## Guardar en JSON"
   ]
  },
  {
   "cell_type": "code",
   "execution_count": 9,
   "id": "a0da8652-3ba7-4ba2-bfb5-cfedebfb3d43",
   "metadata": {},
   "outputs": [],
   "source": [
    "data.to_json(\"../datasets/titanic/titanic_save.json\")"
   ]
  },
  {
   "cell_type": "code",
   "execution_count": null,
   "id": "0a224461-c895-42b6-af5f-02d27f3f55fc",
   "metadata": {},
   "outputs": [],
   "source": []
  }
 ],
 "metadata": {
  "kernelspec": {
   "display_name": "Python 3 (ipykernel)",
   "language": "python",
   "name": "python3"
  },
  "language_info": {
   "codemirror_mode": {
    "name": "ipython",
    "version": 3
   },
   "file_extension": ".py",
   "mimetype": "text/x-python",
   "name": "python",
   "nbconvert_exporter": "python",
   "pygments_lexer": "ipython3",
   "version": "3.8.13"
  }
 },
 "nbformat": 4,
 "nbformat_minor": 5
}
